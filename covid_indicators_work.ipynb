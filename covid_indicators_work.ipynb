{
 "cells": [
  {
   "cell_type": "markdown",
   "metadata": {},
   "source": [
    "IMPORTS"
   ]
  },
  {
   "cell_type": "code",
   "execution_count": 1,
   "metadata": {},
   "outputs": [],
   "source": [
    "import pandas as pd\n",
    "from dfply import *"
   ]
  },
  {
   "cell_type": "markdown",
   "metadata": {},
   "source": [
    "DATA"
   ]
  },
  {
   "cell_type": "code",
   "execution_count": 2,
   "metadata": {},
   "outputs": [],
   "source": [
    "covid_week = pd.read_csv(\"./data/Countries_cases.csv\")\n",
    "country_pop = pd.read_csv(\"./data/Country_pop.csv\")\n",
    "indicators = pd.read_csv(\"./data/Indicators_Final.csv\")"
   ]
  },
  {
   "cell_type": "markdown",
   "metadata": {},
   "source": [
    "INSPECTING INDICATORS"
   ]
  },
  {
   "cell_type": "code",
   "execution_count": 3,
   "metadata": {},
   "outputs": [
    {
     "data": {
      "text/html": [
       "<div>\n",
       "<style scoped>\n",
       "    .dataframe tbody tr th:only-of-type {\n",
       "        vertical-align: middle;\n",
       "    }\n",
       "\n",
       "    .dataframe tbody tr th {\n",
       "        vertical-align: top;\n",
       "    }\n",
       "\n",
       "    .dataframe thead th {\n",
       "        text-align: right;\n",
       "    }\n",
       "</style>\n",
       "<table border=\"1\" class=\"dataframe\">\n",
       "  <thead>\n",
       "    <tr style=\"text-align: right;\">\n",
       "      <th></th>\n",
       "      <th>Series Name</th>\n",
       "      <th>Series Code</th>\n",
       "      <th>Country Name</th>\n",
       "      <th>Country Code</th>\n",
       "      <th>2011 [YR2011]</th>\n",
       "      <th>2012 [YR2012]</th>\n",
       "      <th>2013 [YR2013]</th>\n",
       "      <th>2014 [YR2014]</th>\n",
       "      <th>2015 [YR2015]</th>\n",
       "      <th>2016 [YR2016]</th>\n",
       "      <th>2017 [YR2017]</th>\n",
       "      <th>2018 [YR2018]</th>\n",
       "      <th>2019 [YR2019]</th>\n",
       "      <th>2020 [YR2020]</th>\n",
       "    </tr>\n",
       "  </thead>\n",
       "  <tbody>\n",
       "    <tr>\n",
       "      <th>0</th>\n",
       "      <td>Current health expenditure (% of GDP)</td>\n",
       "      <td>SH.XPD.CHEX.GD.ZS</td>\n",
       "      <td>Afghanistan</td>\n",
       "      <td>AFG</td>\n",
       "      <td>8.56190681</td>\n",
       "      <td>7.89716816</td>\n",
       "      <td>8.80596447</td>\n",
       "      <td>9.52887821</td>\n",
       "      <td>10.10534763</td>\n",
       "      <td>10.96199989</td>\n",
       "      <td>11.77723598</td>\n",
       "      <td>9.39572716</td>\n",
       "      <td>..</td>\n",
       "      <td>..</td>\n",
       "    </tr>\n",
       "    <tr>\n",
       "      <th>1</th>\n",
       "      <td>Current health expenditure (% of GDP)</td>\n",
       "      <td>SH.XPD.CHEX.GD.ZS</td>\n",
       "      <td>Albania</td>\n",
       "      <td>ALB</td>\n",
       "      <td>4.79532719</td>\n",
       "      <td>5.05526161</td>\n",
       "      <td>5.38559914</td>\n",
       "      <td>5.50349331</td>\n",
       "      <td>4.89632177</td>\n",
       "      <td>4.91601992</td>\n",
       "      <td>5.01059723</td>\n",
       "      <td>5.26271439</td>\n",
       "      <td>..</td>\n",
       "      <td>..</td>\n",
       "    </tr>\n",
       "    <tr>\n",
       "      <th>2</th>\n",
       "      <td>Current health expenditure (% of GDP)</td>\n",
       "      <td>SH.XPD.CHEX.GD.ZS</td>\n",
       "      <td>Algeria</td>\n",
       "      <td>DZA</td>\n",
       "      <td>5.26748085</td>\n",
       "      <td>6.00050974</td>\n",
       "      <td>6.03576279</td>\n",
       "      <td>6.54721403</td>\n",
       "      <td>6.97849178</td>\n",
       "      <td>6.60778189</td>\n",
       "      <td>6.38032866</td>\n",
       "      <td>6.2184267</td>\n",
       "      <td>..</td>\n",
       "      <td>..</td>\n",
       "    </tr>\n",
       "    <tr>\n",
       "      <th>3</th>\n",
       "      <td>Current health expenditure (% of GDP)</td>\n",
       "      <td>SH.XPD.CHEX.GD.ZS</td>\n",
       "      <td>American Samoa</td>\n",
       "      <td>ASM</td>\n",
       "      <td>..</td>\n",
       "      <td>..</td>\n",
       "      <td>..</td>\n",
       "      <td>..</td>\n",
       "      <td>..</td>\n",
       "      <td>..</td>\n",
       "      <td>..</td>\n",
       "      <td>..</td>\n",
       "      <td>..</td>\n",
       "      <td>..</td>\n",
       "    </tr>\n",
       "    <tr>\n",
       "      <th>4</th>\n",
       "      <td>Current health expenditure (% of GDP)</td>\n",
       "      <td>SH.XPD.CHEX.GD.ZS</td>\n",
       "      <td>Andorra</td>\n",
       "      <td>AND</td>\n",
       "      <td>6.24652863</td>\n",
       "      <td>6.10150337</td>\n",
       "      <td>5.98780346</td>\n",
       "      <td>5.97912455</td>\n",
       "      <td>6.23245335</td>\n",
       "      <td>6.34349346</td>\n",
       "      <td>6.54431868</td>\n",
       "      <td>6.71033096</td>\n",
       "      <td>..</td>\n",
       "      <td>..</td>\n",
       "    </tr>\n",
       "  </tbody>\n",
       "</table>\n",
       "</div>"
      ],
      "text/plain": [
       "                             Series Name        Series Code    Country Name  \\\n",
       "0  Current health expenditure (% of GDP)  SH.XPD.CHEX.GD.ZS     Afghanistan   \n",
       "1  Current health expenditure (% of GDP)  SH.XPD.CHEX.GD.ZS         Albania   \n",
       "2  Current health expenditure (% of GDP)  SH.XPD.CHEX.GD.ZS         Algeria   \n",
       "3  Current health expenditure (% of GDP)  SH.XPD.CHEX.GD.ZS  American Samoa   \n",
       "4  Current health expenditure (% of GDP)  SH.XPD.CHEX.GD.ZS         Andorra   \n",
       "\n",
       "  Country Code 2011 [YR2011] 2012 [YR2012] 2013 [YR2013] 2014 [YR2014]  \\\n",
       "0          AFG    8.56190681    7.89716816    8.80596447    9.52887821   \n",
       "1          ALB    4.79532719    5.05526161    5.38559914    5.50349331   \n",
       "2          DZA    5.26748085    6.00050974    6.03576279    6.54721403   \n",
       "3          ASM            ..            ..            ..            ..   \n",
       "4          AND    6.24652863    6.10150337    5.98780346    5.97912455   \n",
       "\n",
       "  2015 [YR2015] 2016 [YR2016] 2017 [YR2017] 2018 [YR2018] 2019 [YR2019]  \\\n",
       "0   10.10534763   10.96199989   11.77723598    9.39572716            ..   \n",
       "1    4.89632177    4.91601992    5.01059723    5.26271439            ..   \n",
       "2    6.97849178    6.60778189    6.38032866     6.2184267            ..   \n",
       "3            ..            ..            ..            ..            ..   \n",
       "4    6.23245335    6.34349346    6.54431868    6.71033096            ..   \n",
       "\n",
       "  2020 [YR2020]  \n",
       "0            ..  \n",
       "1            ..  \n",
       "2            ..  \n",
       "3            ..  \n",
       "4            ..  "
      ]
     },
     "execution_count": 3,
     "metadata": {},
     "output_type": "execute_result"
    }
   ],
   "source": [
    "indicators>>head"
   ]
  },
  {
   "cell_type": "code",
   "execution_count": 4,
   "metadata": {},
   "outputs": [
    {
     "data": {
      "text/plain": [
       "array(['Current health expenditure (% of GDP)',\n",
       "       'Diabetes prevalence (% of population ages 20 to 79)',\n",
       "       'Hospital beds (per 1,000 people)',\n",
       "       'Life expectancy at birth, female (years)',\n",
       "       'Life expectancy at birth, male (years)',\n",
       "       'Life expectancy at birth, total (years)',\n",
       "       'Out-of-pocket expenditure (% of current health expenditure)',\n",
       "       'People using safely managed drinking water services (% of population)',\n",
       "       'Prevalence of anemia among pregnant women (%)',\n",
       "       'Prevalence of current tobacco use (% of adults)',\n",
       "       'Prevalence of overweight (% of adults)',\n",
       "       'Public spending on education, total (% of GDP)',\n",
       "       'Risk of catastrophic expenditure for surgical care (% of people at risk)',\n",
       "       'Suicide mortality rate (per 100,000 population)',\n",
       "       'Suicide mortality rate, female (per 100,000 female population)',\n",
       "       'Suicide mortality rate, male (per 100,000 male population)'],\n",
       "      dtype=object)"
      ]
     },
     "execution_count": 4,
     "metadata": {},
     "output_type": "execute_result"
    }
   ],
   "source": [
    "indicators['Series Name'].unique()"
   ]
  },
  {
   "cell_type": "markdown",
   "metadata": {},
   "source": [
    "Drop unwanted columns <br>\n",
    "Rename columns to be more useable later"
   ]
  },
  {
   "cell_type": "code",
   "execution_count": 5,
   "metadata": {},
   "outputs": [],
   "source": [
    "indicators_years=(indicators\n",
    " >> drop(X['Series Code'],X['Country Code'],X['2020 [YR2020]'],X['2012 [YR2012]'],X['2013 [YR2013]'],X['2014 [YR2014]'],X['2015 [YR2015]'])\n",
    " >> rename(Indicator = 'Series Name', Country = 'Country Name', Y2011 = '2011 [YR2011]', Y2016 ='2016 [YR2016]', Y2017 = '2017 [YR2017]', Y2018 = '2018 [YR2018]', Y2019 = '2019 [YR2019]')\n",
    ")"
   ]
  },
  {
   "cell_type": "markdown",
   "metadata": {},
   "source": [
    "INSPECT POPULATIONS"
   ]
  },
  {
   "cell_type": "code",
   "execution_count": 6,
   "metadata": {},
   "outputs": [
    {
     "data": {
      "text/html": [
       "<div>\n",
       "<style scoped>\n",
       "    .dataframe tbody tr th:only-of-type {\n",
       "        vertical-align: middle;\n",
       "    }\n",
       "\n",
       "    .dataframe tbody tr th {\n",
       "        vertical-align: top;\n",
       "    }\n",
       "\n",
       "    .dataframe thead th {\n",
       "        text-align: right;\n",
       "    }\n",
       "</style>\n",
       "<table border=\"1\" class=\"dataframe\">\n",
       "  <thead>\n",
       "    <tr style=\"text-align: right;\">\n",
       "      <th></th>\n",
       "      <th>Country Name</th>\n",
       "      <th>Country Code</th>\n",
       "      <th>Series Name</th>\n",
       "      <th>Series Code</th>\n",
       "      <th>2019 [YR2019]</th>\n",
       "    </tr>\n",
       "  </thead>\n",
       "  <tbody>\n",
       "    <tr>\n",
       "      <th>0</th>\n",
       "      <td>Afghanistan</td>\n",
       "      <td>AFG</td>\n",
       "      <td>Population, total</td>\n",
       "      <td>SP.POP.TOTL</td>\n",
       "      <td>38041754</td>\n",
       "    </tr>\n",
       "    <tr>\n",
       "      <th>1</th>\n",
       "      <td>Albania</td>\n",
       "      <td>ALB</td>\n",
       "      <td>Population, total</td>\n",
       "      <td>SP.POP.TOTL</td>\n",
       "      <td>2854191</td>\n",
       "    </tr>\n",
       "    <tr>\n",
       "      <th>2</th>\n",
       "      <td>Algeria</td>\n",
       "      <td>DZA</td>\n",
       "      <td>Population, total</td>\n",
       "      <td>SP.POP.TOTL</td>\n",
       "      <td>43053054</td>\n",
       "    </tr>\n",
       "    <tr>\n",
       "      <th>3</th>\n",
       "      <td>American Samoa</td>\n",
       "      <td>ASM</td>\n",
       "      <td>Population, total</td>\n",
       "      <td>SP.POP.TOTL</td>\n",
       "      <td>55312</td>\n",
       "    </tr>\n",
       "    <tr>\n",
       "      <th>4</th>\n",
       "      <td>Andorra</td>\n",
       "      <td>AND</td>\n",
       "      <td>Population, total</td>\n",
       "      <td>SP.POP.TOTL</td>\n",
       "      <td>77142</td>\n",
       "    </tr>\n",
       "  </tbody>\n",
       "</table>\n",
       "</div>"
      ],
      "text/plain": [
       "     Country Name Country Code        Series Name  Series Code 2019 [YR2019]\n",
       "0     Afghanistan          AFG  Population, total  SP.POP.TOTL      38041754\n",
       "1         Albania          ALB  Population, total  SP.POP.TOTL       2854191\n",
       "2         Algeria          DZA  Population, total  SP.POP.TOTL      43053054\n",
       "3  American Samoa          ASM  Population, total  SP.POP.TOTL         55312\n",
       "4         Andorra          AND  Population, total  SP.POP.TOTL         77142"
      ]
     },
     "execution_count": 6,
     "metadata": {},
     "output_type": "execute_result"
    }
   ],
   "source": [
    "country_pop>>head"
   ]
  },
  {
   "cell_type": "code",
   "execution_count": 7,
   "metadata": {},
   "outputs": [
    {
     "data": {
      "text/plain": [
       "array(['Afghanistan', 'Albania', 'Algeria', 'American Samoa', 'Andorra',\n",
       "       'Angola', 'Antigua and Barbuda', 'Argentina', 'Armenia', 'Aruba',\n",
       "       'Australia', 'Austria', 'Azerbaijan', 'Bahamas, The', 'Bahrain',\n",
       "       'Bangladesh', 'Barbados', 'Belarus', 'Belgium', 'Belize', 'Benin',\n",
       "       'Bermuda', 'Bhutan', 'Bolivia', 'Bosnia and Herzegovina',\n",
       "       'Botswana', 'Brazil', 'British Virgin Islands',\n",
       "       'Brunei Darussalam', 'Bulgaria', 'Burkina Faso', 'Burundi',\n",
       "       'Cabo Verde', 'Cambodia', 'Cameroon', 'Canada', 'Cayman Islands',\n",
       "       'Central African Republic', 'Chad', 'Channel Islands', 'Chile',\n",
       "       'China', 'Colombia', 'Comoros', 'Congo, Dem. Rep.', 'Congo, Rep.',\n",
       "       'Costa Rica', \"Cote d'Ivoire\", 'Croatia', 'Cuba', 'Curacao',\n",
       "       'Cyprus', 'Czech Republic', 'Denmark', 'Djibouti', 'Dominica',\n",
       "       'Dominican Republic', 'Ecuador', 'Egypt, Arab Rep.', 'El Salvador',\n",
       "       'Equatorial Guinea', 'Eritrea', 'Estonia', 'Eswatini', 'Ethiopia',\n",
       "       'Faroe Islands', 'Fiji', 'Finland', 'France', 'French Polynesia',\n",
       "       'Gabon', 'Gambia, The', 'Georgia', 'Germany', 'Ghana', 'Gibraltar',\n",
       "       'Greece', 'Greenland', 'Grenada', 'Guam', 'Guatemala', 'Guinea',\n",
       "       'Guinea-Bissau', 'Guyana', 'Haiti', 'Honduras',\n",
       "       'Hong Kong SAR, China', 'Hungary', 'Iceland', 'India', 'Indonesia',\n",
       "       'Iran, Islamic Rep.', 'Iraq', 'Ireland', 'Isle of Man', 'Israel',\n",
       "       'Italy', 'Jamaica', 'Japan', 'Jordan', 'Kazakhstan', 'Kenya',\n",
       "       'Kiribati', 'Korea, Dem. People’s Rep.', 'Korea, Rep.', 'Kosovo',\n",
       "       'Kuwait', 'Kyrgyz Republic', 'Lao PDR', 'Latvia', 'Lebanon',\n",
       "       'Lesotho', 'Liberia', 'Libya', 'Liechtenstein', 'Lithuania',\n",
       "       'Luxembourg', 'Macao SAR, China', 'Madagascar', 'Malawi',\n",
       "       'Malaysia', 'Maldives', 'Mali', 'Malta', 'Marshall Islands',\n",
       "       'Mauritania', 'Mauritius', 'Mexico', 'Micronesia, Fed. Sts.',\n",
       "       'Moldova', 'Monaco', 'Mongolia', 'Montenegro', 'Morocco',\n",
       "       'Mozambique', 'Myanmar', 'Namibia', 'Nauru', 'Nepal',\n",
       "       'Netherlands', 'New Caledonia', 'New Zealand', 'Nicaragua',\n",
       "       'Niger', 'Nigeria', 'North Macedonia', 'Northern Mariana Islands',\n",
       "       'Norway', 'Oman', 'Pakistan', 'Palau', 'Panama',\n",
       "       'Papua New Guinea', 'Paraguay', 'Peru', 'Philippines', 'Poland',\n",
       "       'Portugal', 'Puerto Rico', 'Qatar', 'Romania',\n",
       "       'Russian Federation', 'Rwanda', 'Samoa', 'San Marino',\n",
       "       'Sao Tome and Principe', 'Saudi Arabia', 'Senegal', 'Serbia',\n",
       "       'Seychelles', 'Sierra Leone', 'Singapore',\n",
       "       'Sint Maarten (Dutch part)', 'Slovak Republic', 'Slovenia',\n",
       "       'Solomon Islands', 'Somalia', 'South Africa', 'South Sudan',\n",
       "       'Spain', 'Sri Lanka', 'St. Kitts and Nevis', 'St. Lucia',\n",
       "       'St. Martin (French part)', 'St. Vincent and the Grenadines',\n",
       "       'Sudan', 'Suriname', 'Sweden', 'Switzerland',\n",
       "       'Syrian Arab Republic', 'Tajikistan', 'Tanzania', 'Thailand',\n",
       "       'Timor-Leste', 'Togo', 'Tonga', 'Trinidad and Tobago', 'Tunisia',\n",
       "       'Turkey', 'Turkmenistan', 'Turks and Caicos Islands', 'Tuvalu',\n",
       "       'Uganda', 'Ukraine', 'United Arab Emirates', 'United Kingdom',\n",
       "       'United States', 'Uruguay', 'Uzbekistan', 'Vanuatu',\n",
       "       'Venezuela, RB', 'Vietnam', 'Virgin Islands (U.S.)',\n",
       "       'West Bank and Gaza', 'Yemen, Rep.', 'Zambia', 'Zimbabwe', nan,\n",
       "       'Data from database: World Development Indicators',\n",
       "       'Last Updated: 02/17/2021'], dtype=object)"
      ]
     },
     "execution_count": 7,
     "metadata": {},
     "output_type": "execute_result"
    }
   ],
   "source": [
    "country_pop[\"Country Name\"].unique()"
   ]
  },
  {
   "cell_type": "markdown",
   "metadata": {},
   "source": [
    "Country names are not the same"
   ]
  },
  {
   "cell_type": "code",
   "execution_count": 8,
   "metadata": {},
   "outputs": [
    {
     "data": {
      "text/plain": [
       "array(['United States', 'India', 'Brazil', 'United Kingdom', 'Russia',\n",
       "       'France', 'Spain', 'Italy', 'Turkey', 'Germany', 'Colombia',\n",
       "       'Argentina', 'Mexico', 'Poland', 'Iran', 'South Africa', 'Ukraine',\n",
       "       'Peru', 'Indonesia', 'Czech Republic', 'Netherlands', 'Canada',\n",
       "       'Portugal', 'Chile', 'Romania', 'Belgium', 'Israel', 'Iraq',\n",
       "       'Sweden', 'Pakistan', 'Philippines', 'Switzerland', 'Bangladesh',\n",
       "       'Morocco', 'Austria', 'Serbia', 'Japan', 'Hungary', 'Saudi Arabia',\n",
       "       'United Arab Emirates', 'Jordan', 'Lebanon', 'Panama', 'Slovakia',\n",
       "       'Nepal', 'Belarus', 'Malaysia', 'Ecuador', 'Georgia', 'Kazakhstan',\n",
       "       'Croatia', 'Bolivia', 'Azerbaijan', 'Bulgaria',\n",
       "       'Dominican Republic', 'Tunisia', 'Ireland', 'Denmark',\n",
       "       'Costa Rica', 'Lithuania', 'Slovenia', 'Kuwait', 'Egypt', 'Greece',\n",
       "       'Moldova', 'West Bank and Gaza', 'Armenia', 'Guatemala',\n",
       "       'Honduras', 'Qatar', 'Ethiopia', 'Nigeria', 'Paraguay', 'Burma',\n",
       "       'Oman', 'Venezuela', 'Libya', 'Bosnia and Herzegovina', 'Bahrain',\n",
       "       'Algeria', 'Kenya', 'China', 'Macedonia', 'Albania', 'Kyrgyzstan',\n",
       "       'South Korea', 'Uzbekistan', 'Latvia', 'Sri Lanka', 'Ghana',\n",
       "       'Zambia', 'Montenegro', 'Norway', 'Kosovo', 'Singapore',\n",
       "       'El Salvador', 'Afghanistan', 'Estonia', 'Luxembourg',\n",
       "       'Mozambique', 'Finland', 'Uruguay', 'Uganda', 'Cuba', 'Namibia',\n",
       "       'Zimbabwe', 'Cyprus', 'Cameroon', 'Senegal', 'Ivory Coast',\n",
       "       'Sudan', 'Malawi', 'Australia', 'Botswana', 'Thailand',\n",
       "       'Congo (Kinshasa)', 'Angola', 'Malta', 'Jamaica', 'Madagascar',\n",
       "       'Maldives', 'Rwanda', 'Mauritania', 'Eswatini', 'Guinea', 'Syria',\n",
       "       'Cape Verde', 'Tajikistan', 'Gabon', 'Haiti', 'Belize',\n",
       "       'Burkina Faso', 'Andorra', 'Lesotho', 'Suriname',\n",
       "       'Congo (Brazzaville)', 'Bahamas', 'Guyana', 'Mali',\n",
       "       'Trinidad and Tobago', 'Nicaragua', 'Iceland', 'Djibouti', 'Togo',\n",
       "       'South Sudan', 'Equatorial Guinea', 'Somalia', 'Benin',\n",
       "       'Central African Republic', 'Niger', 'The Gambia', 'Sierra Leone',\n",
       "       'Chad', 'Comoros', 'San Marino', 'Guinea-Bissau', 'Eritrea',\n",
       "       'Saint Lucia', 'Liechtenstein', 'Mongolia', 'New Zealand',\n",
       "       'Barbados', 'Vietnam', 'Yemen', 'Seychelles', 'Liberia', 'Burundi',\n",
       "       'Monaco', 'Sao Tome and Principe',\n",
       "       'Saint Vincent and the Grenadines', 'Papua New Guinea', 'Taiwan',\n",
       "       'Bhutan', 'Cruise Ship', 'Diamond Princess', 'Others', 'Mauritius',\n",
       "       'Tanzania', 'Cambodia', 'Antigua and Barbuda', 'Brunei', 'Grenada',\n",
       "       'Dominica', 'Hong Kong', 'East Timor', 'Fiji', 'Guadeloupe',\n",
       "       'Laos', 'Reunion', 'Saint Kitts and Nevis', 'Martinique',\n",
       "       'Vatican City', 'French Guiana', 'Solomon Islands', 'Macau',\n",
       "       'MS Zaandam', 'Mayotte', 'Aruba', 'Marshall Islands', 'Samoa',\n",
       "       'Faroe Islands', 'St. Martin', 'Cayman Islands', 'Channel Islands',\n",
       "       'Curacao', 'Gibraltar', 'Micronesia', 'North Ireland',\n",
       "       'Saint Barthelemy', 'Vanuatu', 'Congo', 'Greenland', 'Guam',\n",
       "       'Guernsey', 'Jersey', 'Palestine', 'Puerto Rico'], dtype=object)"
      ]
     },
     "execution_count": 8,
     "metadata": {},
     "output_type": "execute_result"
    }
   ],
   "source": [
    "covid_week[\"Country\"].unique()"
   ]
  },
  {
   "cell_type": "markdown",
   "metadata": {},
   "source": [
    "Rid the bottom text <br>\n",
    "Drop unwanted columns <br>\n",
    "Rename columns for easier use <br>\n",
    "Make country names match <br>\n",
    "Add Eritrea's population because it wasn't included"
   ]
  },
  {
   "cell_type": "code",
   "execution_count": 9,
   "metadata": {},
   "outputs": [],
   "source": [
    "country_pop_clean=(country_pop[:-5]\n",
    " >> drop(X['Country Code'],X['Series Name'],X['Series Code'])\n",
    " >> rename(Country = 'Country Name',Population_2019 = '2019 [YR2019]')\n",
    " >> mutate(Country = country_pop['Country Name'].str.replace('Russian Federation','Russia').str.replace('Iran, Islamic Rep.', 'Iran').str.replace('Slovak Republic','Slovakia').str.replace('Egypt, Arab Rep.','Egypt').str.replace('Myanmar','Burma').str.replace('Venezuela, RB','Venezuela').str.replace('North Macedonia','Macedonia').str.replace('Kyrgyz Republic','Kyrgyzstan').str.replace('Korea, Rep.','South Korea').str.replace('Cote d\\'Ivoire','Ivory Coast').str.replace('Congo, Dem. Rep.',r'Congo (Kinshasa)').str.replace('Syrian Arab Republic','Syria').str.replace('Cabo Verde','Cape Verde').str.replace('Congo, Rep.',r'Congo (Brazzaville)').str.replace('Bahamas, The','Bahamas').str.replace('Gambia, The','The Gambia').str.replace('St. Lucia','Saint Lucia').str.replace('Yemen, Rep.','Yemen').str.replace('St. Vincent and the Grenadines','Saint Vincent and the Grenadines').str.replace('Brunei Darussalam','Brunei').str.replace('Hong Kong SAR, China','Hong Kong').str.replace('Timor-Leste','East Timor').str.replace('Lao PDR','Laos').str.replace('St. Kitts and Nevis','Saint Kitts and Nevis').str.replace('Macao SAR, China','Macau').str.replace(r'St. Martin (French part)','St. Martin').str.replace('Micronesia, Fed. Sts.','Micronesia'))\n",
    ")\n",
    "country_pop_clean.loc[country_pop_clean.Country == 'Eritrea', 'Population_2019'] = 3497117"
   ]
  },
  {
   "cell_type": "markdown",
   "metadata": {},
   "source": [
    "Took off things that weren't countries like curise ships. Also I did not include territories (like all the french ones). And in questionable cases I went with if it was recongnized by the US."
   ]
  },
  {
   "cell_type": "code",
   "execution_count": 10,
   "metadata": {},
   "outputs": [],
   "source": [
    "not_countries = ['Faroe Islands','Aruba','West Bank and Gaza','Puerto Rico','Guam','Cruise Ship','Diamond Princess','Others','Guadeloupe','Reunion','Martinique','French Guiana','MS Zaandam','Mayotte','St. Martin','North Ireland','Saint Barthelemy','Congo','Guernsey','Jersey','Palestine','Hong Kong','Aruba','Cayman Islands','Channel Islands','Curacao','Gibraltar']"
   ]
  },
  {
   "cell_type": "markdown",
   "metadata": {},
   "source": [
    "INVESTIGATING COVID_WEEK"
   ]
  },
  {
   "cell_type": "code",
   "execution_count": 11,
   "metadata": {},
   "outputs": [
    {
     "data": {
      "text/html": [
       "<div>\n",
       "<style scoped>\n",
       "    .dataframe tbody tr th:only-of-type {\n",
       "        vertical-align: middle;\n",
       "    }\n",
       "\n",
       "    .dataframe tbody tr th {\n",
       "        vertical-align: top;\n",
       "    }\n",
       "\n",
       "    .dataframe thead th {\n",
       "        text-align: right;\n",
       "    }\n",
       "</style>\n",
       "<table border=\"1\" class=\"dataframe\">\n",
       "  <thead>\n",
       "    <tr style=\"text-align: right;\">\n",
       "      <th></th>\n",
       "      <th>Country</th>\n",
       "      <th>1/22/2020</th>\n",
       "      <th>1/23/2020</th>\n",
       "      <th>1/24/2020</th>\n",
       "      <th>1/25/2020</th>\n",
       "      <th>1/26/2020</th>\n",
       "      <th>1/27/2020</th>\n",
       "      <th>1/28/2020</th>\n",
       "      <th>1/29/2020</th>\n",
       "      <th>1/30/2020</th>\n",
       "      <th>...</th>\n",
       "      <th>2/7/2021</th>\n",
       "      <th>2/8/2021</th>\n",
       "      <th>2/9/2021</th>\n",
       "      <th>2/10/2021</th>\n",
       "      <th>2/11/2021</th>\n",
       "      <th>2/12/2021</th>\n",
       "      <th>2/13/2021</th>\n",
       "      <th>2/14/2021</th>\n",
       "      <th>2/15/2021</th>\n",
       "      <th>2/16/2021</th>\n",
       "    </tr>\n",
       "  </thead>\n",
       "  <tbody>\n",
       "    <tr>\n",
       "      <th>0</th>\n",
       "      <td>United States</td>\n",
       "      <td>1</td>\n",
       "      <td>1</td>\n",
       "      <td>2</td>\n",
       "      <td>2</td>\n",
       "      <td>5</td>\n",
       "      <td>5</td>\n",
       "      <td>5</td>\n",
       "      <td>5</td>\n",
       "      <td>5</td>\n",
       "      <td>...</td>\n",
       "      <td>27007368</td>\n",
       "      <td>27097095</td>\n",
       "      <td>27192455</td>\n",
       "      <td>27287159</td>\n",
       "      <td>27392512</td>\n",
       "      <td>27492023</td>\n",
       "      <td>27575344</td>\n",
       "      <td>27640282</td>\n",
       "      <td>27694226</td>\n",
       "      <td>27756624</td>\n",
       "    </tr>\n",
       "    <tr>\n",
       "      <th>1</th>\n",
       "      <td>India</td>\n",
       "      <td>0</td>\n",
       "      <td>0</td>\n",
       "      <td>0</td>\n",
       "      <td>0</td>\n",
       "      <td>0</td>\n",
       "      <td>0</td>\n",
       "      <td>0</td>\n",
       "      <td>0</td>\n",
       "      <td>1</td>\n",
       "      <td>...</td>\n",
       "      <td>10838194</td>\n",
       "      <td>10847304</td>\n",
       "      <td>10858371</td>\n",
       "      <td>10871294</td>\n",
       "      <td>10880603</td>\n",
       "      <td>10892746</td>\n",
       "      <td>10904940</td>\n",
       "      <td>10916589</td>\n",
       "      <td>10925710</td>\n",
       "      <td>10937320</td>\n",
       "    </tr>\n",
       "    <tr>\n",
       "      <th>2</th>\n",
       "      <td>Brazil</td>\n",
       "      <td>0</td>\n",
       "      <td>0</td>\n",
       "      <td>0</td>\n",
       "      <td>0</td>\n",
       "      <td>0</td>\n",
       "      <td>0</td>\n",
       "      <td>0</td>\n",
       "      <td>0</td>\n",
       "      <td>0</td>\n",
       "      <td>...</td>\n",
       "      <td>9524640</td>\n",
       "      <td>9524640</td>\n",
       "      <td>9599565</td>\n",
       "      <td>9659167</td>\n",
       "      <td>9713909</td>\n",
       "      <td>9765455</td>\n",
       "      <td>9809754</td>\n",
       "      <td>9834513</td>\n",
       "      <td>9866710</td>\n",
       "      <td>9921981</td>\n",
       "    </tr>\n",
       "    <tr>\n",
       "      <th>3</th>\n",
       "      <td>United Kingdom</td>\n",
       "      <td>0</td>\n",
       "      <td>0</td>\n",
       "      <td>0</td>\n",
       "      <td>0</td>\n",
       "      <td>0</td>\n",
       "      <td>0</td>\n",
       "      <td>0</td>\n",
       "      <td>0</td>\n",
       "      <td>0</td>\n",
       "      <td>...</td>\n",
       "      <td>3957177</td>\n",
       "      <td>3971315</td>\n",
       "      <td>3983756</td>\n",
       "      <td>3996833</td>\n",
       "      <td>4010376</td>\n",
       "      <td>4025574</td>\n",
       "      <td>4038929</td>\n",
       "      <td>4049920</td>\n",
       "      <td>4059696</td>\n",
       "      <td>4070332</td>\n",
       "    </tr>\n",
       "    <tr>\n",
       "      <th>4</th>\n",
       "      <td>Russia</td>\n",
       "      <td>0</td>\n",
       "      <td>0</td>\n",
       "      <td>0</td>\n",
       "      <td>0</td>\n",
       "      <td>0</td>\n",
       "      <td>0</td>\n",
       "      <td>0</td>\n",
       "      <td>0</td>\n",
       "      <td>0</td>\n",
       "      <td>...</td>\n",
       "      <td>3923461</td>\n",
       "      <td>3939162</td>\n",
       "      <td>3953970</td>\n",
       "      <td>3968228</td>\n",
       "      <td>3983031</td>\n",
       "      <td>3997898</td>\n",
       "      <td>4012538</td>\n",
       "      <td>4026506</td>\n",
       "      <td>4040505</td>\n",
       "      <td>4053535</td>\n",
       "    </tr>\n",
       "  </tbody>\n",
       "</table>\n",
       "<p>5 rows × 393 columns</p>\n",
       "</div>"
      ],
      "text/plain": [
       "          Country  1/22/2020  1/23/2020  1/24/2020  1/25/2020  1/26/2020  \\\n",
       "0   United States          1          1          2          2          5   \n",
       "1           India          0          0          0          0          0   \n",
       "2          Brazil          0          0          0          0          0   \n",
       "3  United Kingdom          0          0          0          0          0   \n",
       "4          Russia          0          0          0          0          0   \n",
       "\n",
       "   1/27/2020  1/28/2020  1/29/2020  1/30/2020  ...  2/7/2021  2/8/2021  \\\n",
       "0          5          5          5          5  ...  27007368  27097095   \n",
       "1          0          0          0          1  ...  10838194  10847304   \n",
       "2          0          0          0          0  ...   9524640   9524640   \n",
       "3          0          0          0          0  ...   3957177   3971315   \n",
       "4          0          0          0          0  ...   3923461   3939162   \n",
       "\n",
       "   2/9/2021  2/10/2021  2/11/2021  2/12/2021  2/13/2021  2/14/2021  2/15/2021  \\\n",
       "0  27192455   27287159   27392512   27492023   27575344   27640282   27694226   \n",
       "1  10858371   10871294   10880603   10892746   10904940   10916589   10925710   \n",
       "2   9599565    9659167    9713909    9765455    9809754    9834513    9866710   \n",
       "3   3983756    3996833    4010376    4025574    4038929    4049920    4059696   \n",
       "4   3953970    3968228    3983031    3997898    4012538    4026506    4040505   \n",
       "\n",
       "   2/16/2021  \n",
       "0   27756624  \n",
       "1   10937320  \n",
       "2    9921981  \n",
       "3    4070332  \n",
       "4    4053535  \n",
       "\n",
       "[5 rows x 393 columns]"
      ]
     },
     "execution_count": 11,
     "metadata": {},
     "output_type": "execute_result"
    }
   ],
   "source": [
    "covid_week>>head"
   ]
  },
  {
   "cell_type": "markdown",
   "metadata": {},
   "source": [
    "Dropped non-countries <br>\n",
    "Reshaped data as dates shouldn't be columns <br>\n",
    "Joined on the population data here <br>\n",
    "Added Taiwan and Vatican City population here because it was on the covid list but not my population list <br>\n",
    "Made new column for covid rates per 100,000 people "
   ]
  },
  {
   "cell_type": "code",
   "execution_count": 12,
   "metadata": {},
   "outputs": [],
   "source": [
    "covid_rates=(covid_week\n",
    " >> filter_by(~X.Country.isin(not_countries)) \n",
    " >> gather('Covid_date','Covid_cases',columns_from('1/22/2020'))\n",
    " \n",
    " >> left_join(country_pop_clean, by='Country')\n",
    ")\n",
    "covid_rates.loc[covid_rates.Country == 'Taiwan', 'Population_2019'] = 23773876\n",
    "covid_rates.loc[covid_rates.Country == 'Vatican City', 'Population_2019'] = 825\n",
    "\n",
    "covid_rates=(covid_rates\n",
    " >> mutate(Covid_rate_per_100000 = X.Covid_cases/X.Population_2019.astype('int64')*100000)\n",
    ")"
   ]
  },
  {
   "cell_type": "markdown",
   "metadata": {},
   "source": [
    "Joined the covid data to the indicators data <br>\n",
    "Reshaped to put the years in cells instead of as columns (and removed the 'Y') <br>\n",
    "Change '..' to NaN <br>\n",
    "Change a few data types to better match "
   ]
  },
  {
   "cell_type": "code",
   "execution_count": 13,
   "metadata": {},
   "outputs": [],
   "source": [
    "full_data=(covid_rates\n",
    " >> left_join(indicators_years, by='Country')\n",
    " >> gather('Indicator_year', 'Indicator_value', columns_from('Y2011'))\n",
    " >> mutate(Indicator_year = X.Indicator_year.str[1:].astype('int64'))\n",
    " >> mutate(Indicator_value = X.Indicator_value.replace('..',np.NaN))\n",
    " >> mutate(Population_2019 = X.Population_2019.astype('int64'), Indicator_value = X.Indicator_value.astype('float64'), Covid_date = X.Covid_date.astype('datetime64[ns]'))\n",
    ")"
   ]
  },
  {
   "cell_type": "code",
   "execution_count": 14,
   "metadata": {},
   "outputs": [
    {
     "data": {
      "text/plain": [
       "Country                          object\n",
       "Covid_date               datetime64[ns]\n",
       "Covid_cases                       int64\n",
       "Population_2019                   int64\n",
       "Covid_rate_per_100000           float64\n",
       "Indicator                        object\n",
       "Indicator_year                    int64\n",
       "Indicator_value                 float64\n",
       "dtype: object"
      ]
     },
     "execution_count": 14,
     "metadata": {},
     "output_type": "execute_result"
    }
   ],
   "source": [
    "full_data.dtypes"
   ]
  },
  {
   "cell_type": "markdown",
   "metadata": {},
   "source": [
    "A function to keep only the year I want for each indicator (as the yearly data I am using varies)"
   ]
  },
  {
   "cell_type": "code",
   "execution_count": 15,
   "metadata": {},
   "outputs": [],
   "source": [
    "keep_year = lambda df, indicator, year: df.drop(df[(df['Indicator'] != indicator)].index).drop(df[(df['Indicator'] == indicator) & (df['Indicator_year'] != year)].index)"
   ]
  },
  {
   "cell_type": "markdown",
   "metadata": {},
   "source": [
    "And a dictionary for the indicators and year for easy changing"
   ]
  },
  {
   "cell_type": "code",
   "execution_count": 16,
   "metadata": {},
   "outputs": [],
   "source": [
    "indicator_dict = {r'Current health expenditure (% of GDP)':2018,\n",
    "     r'Diabetes prevalence (% of population ages 20 to 79)':2019,\n",
    "     r'Hospital beds (per 1,000 people)':2011,\n",
    "     r'Life expectancy at birth, female (years)':2018,\n",
    "     r'Life expectancy at birth, male (years)':2018,\n",
    "     r'Life expectancy at birth, total (years)':2018,\n",
    "     r'Out-of-pocket expenditure (% of current health expenditure)':2015,\n",
    "     r'People using safely managed drinking water services (% of population)':2017,\n",
    "     r'Prevalence of anemia among pregnant women (%)':2016,\n",
    "     r'Prevalence of current tobacco use (% of adults)':2018,\n",
    "     r'Prevalence of overweight (% of adults)':2016,\n",
    "     r'Public spending on education, total (% of GDP)':2017,\n",
    "     r'Risk of catastrophic expenditure for surgical care (% of people at risk)':2019,\n",
    "     r'Suicide mortality rate (per 100,000 population)':2016,\n",
    "     r'Suicide mortality rate, female (per 100,000 female population)':2016,\n",
    "     r'Suicide mortality rate, male (per 100,000 male population)':2016}"
   ]
  },
  {
   "cell_type": "markdown",
   "metadata": {},
   "source": [
    "For each indicator, keep only the year I want and make complete dataset. Please wait, it takes a little bit."
   ]
  },
  {
   "cell_type": "code",
   "execution_count": 17,
   "metadata": {},
   "outputs": [],
   "source": [
    "covid_indicators = pd.DataFrame()\n",
    "for indi, year in indicator_dict.items():\n",
    "    covid_indicators=covid_indicators.append(keep_year(full_data, indi, year))"
   ]
  },
  {
   "cell_type": "markdown",
   "metadata": {},
   "source": [
    "Write out to csv"
   ]
  },
  {
   "cell_type": "code",
   "execution_count": 18,
   "metadata": {},
   "outputs": [],
   "source": [
    "covid_indicators.to_csv('covid_indicators', index=False)"
   ]
  },
  {
   "cell_type": "code",
   "execution_count": null,
   "metadata": {},
   "outputs": [],
   "source": []
  },
  {
   "cell_type": "code",
   "execution_count": null,
   "metadata": {},
   "outputs": [],
   "source": []
  }
 ],
 "metadata": {
  "kernelspec": {
   "display_name": "Python 3",
   "language": "python",
   "name": "python3"
  },
  "language_info": {
   "codemirror_mode": {
    "name": "ipython",
    "version": 3
   },
   "file_extension": ".py",
   "mimetype": "text/x-python",
   "name": "python",
   "nbconvert_exporter": "python",
   "pygments_lexer": "ipython3",
   "version": "3.7.6"
  }
 },
 "nbformat": 4,
 "nbformat_minor": 4
}
